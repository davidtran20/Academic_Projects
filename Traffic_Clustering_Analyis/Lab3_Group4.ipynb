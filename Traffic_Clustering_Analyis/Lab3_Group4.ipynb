{
 "cells": [
  {
   "cell_type": "markdown",
   "metadata": {
    "slideshow": {
     "slide_type": "slide"
    }
   },
   "source": [
    "# Lab 3 - Clustering\n",
    "\n",
    "## MSDS 7331-401\n",
    "\n",
    "#### Project Team:\n",
    "+ Peter Byrd \n",
    "+ Matthew Przybyla  \n",
    "+ David Tran\n",
    "+ Amber Whelpley\n",
    "\n",
    "# National Highway Traffic Safety Administration - 2015 Traffic Accidents\n",
    "\n"
   ]
  },
  {
   "cell_type": "markdown",
   "metadata": {},
   "source": [
    "## Business Understanding\n",
    "\n",
    "A primary objective of the National Highway Traffic Safety Administration (NHTSA) is to reduce the staggering human toll and property damage caused by motor vehicle traffic crashes.  Each year, thousands of lives are lost, hundreds of thousands are injured, and billions of dollars are lost in property damage.  Understanding the factors related to automotive crashes is needed to design and implement programs that effectively reduce the impact on human lives and reduce the billions lost in damages.\n",
    "\n",
    "In 1975, the Fatality Analysis Reporting System (FARS) began collecting information about fatal crashes involving all types of vehicles.  The FARS system is used to identify highway safety problem areas, and provide a basis for regulatory and consumer information initiatives.\n",
    "\n",
    "FARS is directed by the National Center for Statistics and Analysis which is a component of NHTSA.  Trained state employees, called \"FARS Analysts,\" are responsible for gathering, translating, and transmitting their States' data to NCSA.  FARS data are obtained from varius States' documents, such as:\n",
    "+ Police Accident Reports\n",
    "+ Death Certificates\n",
    "+ State Vehicle Registration Files\n",
    "+ Coroner/Medical Examiner Reports\n",
    "+ State Drive Licensing Files\n",
    "+ State Highway Department Data\n",
    "+ Emergency Medical Services Reports\n",
    "+ Vital Statistics and other State Records\n",
    "\n",
    "All qualifying fatalities that occur within the 50 US states, District of Columbia, and Puerto Rico are recorded.  A qualifying case involves a motor vehicle traveling on a trafficway open to the public, and must have resulted in a death of a motorist or non-motorist within 30 days of the accident.\n",
    "\n",
    "A desired outcome from analysis of the FARS data is to determine the primary causes associated with traffic fatalities and to drive awareness for prevention programs.  Identification of strong correlation between traffic fatalities and other recorded attributes such as weather, dates, or intoxication can lead to successful prevention measures.  \n",
    "\n",
    "For the analysis performed here, we will focus on the *accident.csv* file found at https://www.kaggle.com/nhtsa/2015-traffic-fatalities. An effective model will determine the factors that lead to a higher death rate in fatal crashes. Our intention is to eventually use this data to assist in predicting whether an accident will have multiple fatalities using the information we have. We consider a successful outcome to be successful prediction approximately 80% of the time. Whether this goal is possible remains to be seen.\n",
    "\n",
    "A successful prediction algorithm could be used to guide prevention programs toward awareness of certain factors that lead to a higher impact on human life.\n",
    "\n",
    "### Import Data"
   ]
  },
  {
   "cell_type": "code",
   "execution_count": 19,
   "metadata": {
    "scrolled": false
   },
   "outputs": [
    {
     "data": {
      "text/html": [
       "<div>\n",
       "<style>\n",
       "    .dataframe thead tr:only-child th {\n",
       "        text-align: right;\n",
       "    }\n",
       "\n",
       "    .dataframe thead th {\n",
       "        text-align: left;\n",
       "    }\n",
       "\n",
       "    .dataframe tbody tr th {\n",
       "        vertical-align: top;\n",
       "    }\n",
       "</style>\n",
       "<table border=\"1\" class=\"dataframe\">\n",
       "  <thead>\n",
       "    <tr style=\"text-align: right;\">\n",
       "      <th></th>\n",
       "      <th>STATE</th>\n",
       "      <th>ST_CASE</th>\n",
       "      <th>VE_TOTAL</th>\n",
       "      <th>VE_FORMS</th>\n",
       "      <th>PVH_INVL</th>\n",
       "      <th>PEDS</th>\n",
       "      <th>PERNOTMVIT</th>\n",
       "      <th>PERMVIT</th>\n",
       "      <th>PERSONS</th>\n",
       "      <th>COUNTY</th>\n",
       "      <th>...</th>\n",
       "      <th>NOT_MIN</th>\n",
       "      <th>ARR_HOUR</th>\n",
       "      <th>ARR_MIN</th>\n",
       "      <th>HOSP_HR</th>\n",
       "      <th>HOSP_MN</th>\n",
       "      <th>CF1</th>\n",
       "      <th>CF2</th>\n",
       "      <th>CF3</th>\n",
       "      <th>FATALS</th>\n",
       "      <th>DRUNK_DR</th>\n",
       "    </tr>\n",
       "  </thead>\n",
       "  <tbody>\n",
       "    <tr>\n",
       "      <th>0</th>\n",
       "      <td>1</td>\n",
       "      <td>10001</td>\n",
       "      <td>1</td>\n",
       "      <td>1</td>\n",
       "      <td>0</td>\n",
       "      <td>0</td>\n",
       "      <td>0</td>\n",
       "      <td>1</td>\n",
       "      <td>1</td>\n",
       "      <td>127</td>\n",
       "      <td>...</td>\n",
       "      <td>99</td>\n",
       "      <td>2</td>\n",
       "      <td>58</td>\n",
       "      <td>88</td>\n",
       "      <td>88</td>\n",
       "      <td>0</td>\n",
       "      <td>0</td>\n",
       "      <td>0</td>\n",
       "      <td>1</td>\n",
       "      <td>1</td>\n",
       "    </tr>\n",
       "    <tr>\n",
       "      <th>1</th>\n",
       "      <td>1</td>\n",
       "      <td>10002</td>\n",
       "      <td>1</td>\n",
       "      <td>1</td>\n",
       "      <td>0</td>\n",
       "      <td>0</td>\n",
       "      <td>0</td>\n",
       "      <td>1</td>\n",
       "      <td>1</td>\n",
       "      <td>83</td>\n",
       "      <td>...</td>\n",
       "      <td>99</td>\n",
       "      <td>22</td>\n",
       "      <td>20</td>\n",
       "      <td>88</td>\n",
       "      <td>88</td>\n",
       "      <td>0</td>\n",
       "      <td>0</td>\n",
       "      <td>0</td>\n",
       "      <td>1</td>\n",
       "      <td>0</td>\n",
       "    </tr>\n",
       "    <tr>\n",
       "      <th>2</th>\n",
       "      <td>1</td>\n",
       "      <td>10003</td>\n",
       "      <td>1</td>\n",
       "      <td>1</td>\n",
       "      <td>0</td>\n",
       "      <td>0</td>\n",
       "      <td>0</td>\n",
       "      <td>2</td>\n",
       "      <td>2</td>\n",
       "      <td>11</td>\n",
       "      <td>...</td>\n",
       "      <td>99</td>\n",
       "      <td>1</td>\n",
       "      <td>45</td>\n",
       "      <td>99</td>\n",
       "      <td>99</td>\n",
       "      <td>0</td>\n",
       "      <td>0</td>\n",
       "      <td>0</td>\n",
       "      <td>1</td>\n",
       "      <td>1</td>\n",
       "    </tr>\n",
       "    <tr>\n",
       "      <th>3</th>\n",
       "      <td>1</td>\n",
       "      <td>10004</td>\n",
       "      <td>1</td>\n",
       "      <td>1</td>\n",
       "      <td>0</td>\n",
       "      <td>0</td>\n",
       "      <td>0</td>\n",
       "      <td>1</td>\n",
       "      <td>1</td>\n",
       "      <td>45</td>\n",
       "      <td>...</td>\n",
       "      <td>99</td>\n",
       "      <td>1</td>\n",
       "      <td>15</td>\n",
       "      <td>88</td>\n",
       "      <td>88</td>\n",
       "      <td>0</td>\n",
       "      <td>0</td>\n",
       "      <td>0</td>\n",
       "      <td>1</td>\n",
       "      <td>1</td>\n",
       "    </tr>\n",
       "    <tr>\n",
       "      <th>4</th>\n",
       "      <td>1</td>\n",
       "      <td>10005</td>\n",
       "      <td>2</td>\n",
       "      <td>2</td>\n",
       "      <td>0</td>\n",
       "      <td>0</td>\n",
       "      <td>0</td>\n",
       "      <td>2</td>\n",
       "      <td>2</td>\n",
       "      <td>45</td>\n",
       "      <td>...</td>\n",
       "      <td>99</td>\n",
       "      <td>7</td>\n",
       "      <td>16</td>\n",
       "      <td>88</td>\n",
       "      <td>88</td>\n",
       "      <td>0</td>\n",
       "      <td>0</td>\n",
       "      <td>0</td>\n",
       "      <td>1</td>\n",
       "      <td>0</td>\n",
       "    </tr>\n",
       "  </tbody>\n",
       "</table>\n",
       "<p>5 rows × 52 columns</p>\n",
       "</div>"
      ],
      "text/plain": [
       "   STATE  ST_CASE  VE_TOTAL  VE_FORMS  PVH_INVL  PEDS  PERNOTMVIT  PERMVIT  \\\n",
       "0      1    10001         1         1         0     0           0        1   \n",
       "1      1    10002         1         1         0     0           0        1   \n",
       "2      1    10003         1         1         0     0           0        2   \n",
       "3      1    10004         1         1         0     0           0        1   \n",
       "4      1    10005         2         2         0     0           0        2   \n",
       "\n",
       "   PERSONS  COUNTY    ...     NOT_MIN  ARR_HOUR  ARR_MIN  HOSP_HR  HOSP_MN  \\\n",
       "0        1     127    ...          99         2       58       88       88   \n",
       "1        1      83    ...          99        22       20       88       88   \n",
       "2        2      11    ...          99         1       45       99       99   \n",
       "3        1      45    ...          99         1       15       88       88   \n",
       "4        2      45    ...          99         7       16       88       88   \n",
       "\n",
       "   CF1  CF2  CF3  FATALS  DRUNK_DR  \n",
       "0    0    0    0       1         1  \n",
       "1    0    0    0       1         0  \n",
       "2    0    0    0       1         1  \n",
       "3    0    0    0       1         1  \n",
       "4    0    0    0       1         0  \n",
       "\n",
       "[5 rows x 52 columns]"
      ]
     },
     "execution_count": 19,
     "metadata": {},
     "output_type": "execute_result"
    }
   ],
   "source": [
    "import pandas as pd\n",
    "import numpy as np\n",
    "import datetime\n",
    "from __future__ import print_function \n",
    "\n",
    "import warnings\n",
    "#warnings.simplefilter('ignore', DeprecationWarning)\n",
    "warnings.simplefilter('ignore')\n",
    "\n",
    "import seaborn as sns\n",
    "sns.set(style=\"white\", color_codes=True)\n",
    "import matplotlib.pyplot as plt\n",
    "\n",
    "from scipy import special \n",
    "\n",
    "\n",
    "#Read the Data\n",
    "df = pd.read_csv(\"/Users/pbyrd/Data/NHTSA/accident.csv\")\n",
    "\n",
    "#Review the data\n",
    "df.head()"
   ]
  },
  {
   "cell_type": "markdown",
   "metadata": {},
   "source": [
    "\n",
    "## Data Understanding\n",
    "\n",
    "The following sections will clean up some issues in the data.  We will remove invalid Latitude and Longitude coordinates, simplify the time of the crash to a single time value, and replace the state codes with the actual names of the states.  We will also combine attributes for persons involved in the accident, and create a few one-hot encoded attributes from Rural/Urban and Workzone.\n",
    "\n",
    "New features were developed from the dataset.  The feature RUSH_HR was created to determine if rush hour traffic was a key factor in fatalities and collisions.  The feature lapseTime represents the time between the crash occuring and when EMS delivers the victim to the hospital, and could also be a factor in determining whether a fatality or collision occurred.\n",
    "\n",
    "New ordinal variables were also created for lighting condition and weather condition.  The original variables for lighting (LGT_COND) was reordered to represent a new ordinal variable (light) to scale from lightest to darkest conditions.  Similarly, the original variable for weather condition (WEATHER) was reordered to represent a new ordinal variable (weather) to scale from best to worst weather conditions.\n"
   ]
  },
  {
   "cell_type": "code",
   "execution_count": 20,
   "metadata": {
    "collapsed": true
   },
   "outputs": [],
   "source": [
    "# Missing Latitude and Longitude data\n",
    "\n",
    "# If 99.9999/88.8888/77.7777 and 999.9999/888.8888/777.7777 appear in the data we won't be able to graph them.\n",
    "# We will make them 0 and we can omit them when mapping.\n",
    "\n",
    "df['LATITUDE'] = df['LATITUDE'].replace(to_replace=99.9999,value=0) # replace unknown LATITUDE with 0 for mapping\n",
    "df['LATITUDE'] = df['LATITUDE'].replace(to_replace=88.8888,value=0) # replace not available LATITUDE with 0 for mapping\n",
    "df['LATITUDE'] = df['LATITUDE'].replace(to_replace=77.7777,value=0) # replace not reported LATITUDE with 0 for mapping\n",
    "\n",
    "df['LONGITUD'] = df['LONGITUD'].replace(to_replace=999.9999,value=0) # replace unknown LONGITUD with 0 for mapping\n",
    "df['LONGITUD'] = df['LONGITUD'].replace(to_replace=888.8888,value=0) # replace unknown LONGITUD with 0 for mapping\n",
    "df['LONGITUD'] = df['LONGITUD'].replace(to_replace=777.7777,value=0) # replace unknown LONGITUD with 0 for mapping\n"
   ]
  },
  {
   "cell_type": "code",
   "execution_count": 21,
   "metadata": {
    "collapsed": true
   },
   "outputs": [],
   "source": [
    "# Add attribute for total time lapse between Crash time and Hospital arrival time\n",
    "\n",
    "df['lapseTime'] = (df['HOSP_HR'] - df['HOUR'])*60 + (df['HOSP_MN'] - df['MINUTE'])\n",
    "df['lapseTime'] = (df['lapseTime'] < 1440) * df['lapseTime'] # Keep only lapseTime less than a day (1440 mins)\n",
    "df['lapseTime'] = (df['lapseTime'] > 0) * df['lapseTime']     # Remove lapseTime that are negative"
   ]
  },
  {
   "cell_type": "code",
   "execution_count": 22,
   "metadata": {
    "collapsed": true
   },
   "outputs": [],
   "source": [
    "# Naming the States \n",
    "# Reference: https://crashstats.nhtsa.dot.gov/Api/Public/ViewPublication/812315 - Page 93 \n",
    "\n",
    "states = {1: 'Alabama', 2: 'Alaska', 3: 'American Samoa', 4: 'Arizona', 5: 'Arkansas', \n",
    "          6: 'California', 8: 'Colorado', 9: 'Connecticut', 10: 'Delaware', 11: 'District of Columbia',\n",
    "          12: 'Florida', 13: 'Georgia',14: 'Guam', 15: 'Hawaii', \n",
    "          16: 'Idaho', 17: 'Illinois', 18: 'Indiana', 19: 'Iowa', 20: 'Kansas', \n",
    "          21: 'Kentucky', 22: 'Louisiana', 23: 'Maine', 24: 'Maryland', \n",
    "          25: 'Massachusetts', 26: 'Michigan', 27: 'Minnesota', \n",
    "          28: 'Mississippi', 29: 'Missouri', 30: 'Montana', 31: 'Nebraska', \n",
    "          32: 'Nevada', 33: 'New Hampshire', 34: 'New Jersey', 35: 'New Mexico', \n",
    "          36: 'New York', 37: 'North Carolina', 38: 'North Dakota', 39: 'Ohio', \n",
    "          40: 'Oklahoma', 41: 'Oregon', 42: 'Pennsylvania', 43: 'Puerto Rico', \n",
    "          44: 'Rhode Island', 45: 'South Carolina', 46: 'South Dakota', 47: 'Tennessee', \n",
    "          48: 'Texas', 49: 'Utah', 50: 'Vermont', 51: 'Virginia', 52: 'Virgin Islands', \n",
    "          53: 'Washington', 54: 'West Virginia', 55: 'Wisconsin', 56: 'Wyoming'}\n",
    "\n",
    "df['state']=df['STATE'].apply(lambda x: states[x])"
   ]
  },
  {
   "cell_type": "code",
   "execution_count": 23,
   "metadata": {
    "collapsed": true
   },
   "outputs": [],
   "source": [
    "# Lighting Condition\n",
    "\n",
    "# Order from best to worst lighting condition\n",
    "lighting = {0:1, 1:1, 2:4, 3:3, 4:2, 5:2, 6:5, 7:6, 8:6, 9:6}\n",
    "\n",
    "df['light']=df['LGT_COND'].apply(lambda x: lighting[x])"
   ]
  },
  {
   "cell_type": "code",
   "execution_count": 24,
   "metadata": {
    "collapsed": true
   },
   "outputs": [],
   "source": [
    "# Weather condition\n",
    "\n",
    "# Order from best to worst weather condition\n",
    "weathertype = {0:1, 1:1, 2:3, 3:5, 4:3, 5:4, 6:6, 7:6, 8:6, 9:6, 10:2 ,11:6 , 12:5, 98:7 , 99:7}\n",
    "\n",
    "# New order:\n",
    "#   No additional weather, Clear\n",
    "#   Cloudy\n",
    "#   Rain, Snow\n",
    "#   Fog\n",
    "#   Sleet/Hail, Freezing Rain\n",
    "#   Severe crosswinds, Blowing sand/soil, Blowing snow\n",
    "#   Not reported, Unknown\n",
    "\n",
    "df['weather']=df['WEATHER'].apply(lambda x: weathertype[x])"
   ]
  },
  {
   "cell_type": "code",
   "execution_count": 25,
   "metadata": {
    "collapsed": true
   },
   "outputs": [],
   "source": [
    "# Let's combine some attributes for easier interpretation:\n",
    "\n",
    "# Total number of persons involved in the accident\n",
    "df['TOT_PERS'] = df['PERMVIT'] + df['PERNOTMVIT'] + df['PEDS']\n",
    "\n",
    "# Let's create a binary attributes from some of our categorical variables \n",
    "df['FATALS'] = (df['FATALS'] > 1)*1     # 1 = multi-fatality, 0 = single-fatality\n",
    "df['WRK_ZONE'] = (df['WRK_ZONE']>0)*1   # 1 = workzone, 0 = not workzone\n",
    "df['RUR_URB'] = (df['RUR_URB']<2)*1     # 1 = urban, 0 = rural\n",
    "df['DRUNK'] = (df['DRUNK_DR']>0)*1      # 1 = drunk, 0 = not drunk\n",
    "df['NHS'] = (df['NHS']>0)*1             # 1 = national hwy, 0 = not on national hwy (assume not reported = 1 (4%))\n",
    "df['SP_JUR'] = (df['SP_JUR']>0)*1       # 1 = special jurisdiction, 0 = no special jurisdiction\n",
    "df['intersetion'] = (df['TYP_INT']>1)*1 # 1 = intersection, 0 = not an intersection\n",
    "df['collision'] = (df['MAN_COLL']>0)*1  # 1 = collision, 0 = no collision\n",
    "\n",
    "\n",
    "# Add new attribute of RUSH_HR (6am - 8:59am or 4pm - 6:59pm)\n",
    "tmp1 = df['HOUR'] > 5\n",
    "tmp2 = df['HOUR'] < 9\n",
    "tmp3 = df['HOUR'] > 15\n",
    "tmp4 = df['HOUR'] < 19\n",
    "df['RUSH_HR'] = (tmp1 * tmp2)*1 + (tmp3 * tmp4)*1\n"
   ]
  },
  {
   "cell_type": "code",
   "execution_count": 26,
   "metadata": {
    "scrolled": true
   },
   "outputs": [
    {
     "data": {
      "text/html": [
       "<div>\n",
       "<style>\n",
       "    .dataframe thead tr:only-child th {\n",
       "        text-align: right;\n",
       "    }\n",
       "\n",
       "    .dataframe thead th {\n",
       "        text-align: left;\n",
       "    }\n",
       "\n",
       "    .dataframe tbody tr th {\n",
       "        vertical-align: top;\n",
       "    }\n",
       "</style>\n",
       "<table border=\"1\" class=\"dataframe\">\n",
       "  <thead>\n",
       "    <tr style=\"text-align: right;\">\n",
       "      <th></th>\n",
       "      <th>VE_TOTAL</th>\n",
       "      <th>NHS</th>\n",
       "      <th>RUR_URB</th>\n",
       "      <th>ROUTE</th>\n",
       "      <th>LATITUDE</th>\n",
       "      <th>LONGITUD</th>\n",
       "      <th>SP_JUR</th>\n",
       "      <th>WRK_ZONE</th>\n",
       "      <th>SCH_BUS</th>\n",
       "      <th>FATALS</th>\n",
       "      <th>lapseTime</th>\n",
       "      <th>light</th>\n",
       "      <th>weather</th>\n",
       "      <th>TOT_PERS</th>\n",
       "      <th>DRUNK</th>\n",
       "      <th>intersetion</th>\n",
       "      <th>collision</th>\n",
       "      <th>RUSH_HR</th>\n",
       "    </tr>\n",
       "  </thead>\n",
       "  <tbody>\n",
       "    <tr>\n",
       "      <th>count</th>\n",
       "      <td>32166.000000</td>\n",
       "      <td>32166.000000</td>\n",
       "      <td>32166.000000</td>\n",
       "      <td>32166.000000</td>\n",
       "      <td>32166.000000</td>\n",
       "      <td>32166.000000</td>\n",
       "      <td>32166.000000</td>\n",
       "      <td>32166.000000</td>\n",
       "      <td>32166.000000</td>\n",
       "      <td>32166.000000</td>\n",
       "      <td>32166.000000</td>\n",
       "      <td>32166.000000</td>\n",
       "      <td>32166.000000</td>\n",
       "      <td>32166.000000</td>\n",
       "      <td>32166.000000</td>\n",
       "      <td>32166.000000</td>\n",
       "      <td>32166.000000</td>\n",
       "      <td>32166.000000</td>\n",
       "    </tr>\n",
       "    <tr>\n",
       "      <th>mean</th>\n",
       "      <td>1.556177</td>\n",
       "      <td>0.392744</td>\n",
       "      <td>0.475440</td>\n",
       "      <td>3.758472</td>\n",
       "      <td>36.380743</td>\n",
       "      <td>-91.516946</td>\n",
       "      <td>0.011005</td>\n",
       "      <td>0.019959</td>\n",
       "      <td>0.003295</td>\n",
       "      <td>0.073059</td>\n",
       "      <td>12.361064</td>\n",
       "      <td>2.316235</td>\n",
       "      <td>1.480849</td>\n",
       "      <td>2.720201</td>\n",
       "      <td>0.275508</td>\n",
       "      <td>0.243829</td>\n",
       "      <td>0.381925</td>\n",
       "      <td>0.265809</td>\n",
       "    </tr>\n",
       "    <tr>\n",
       "      <th>std</th>\n",
       "      <td>0.889722</td>\n",
       "      <td>0.488368</td>\n",
       "      <td>0.499404</td>\n",
       "      <td>2.056157</td>\n",
       "      <td>5.962369</td>\n",
       "      <td>16.525763</td>\n",
       "      <td>0.104329</td>\n",
       "      <td>0.139861</td>\n",
       "      <td>0.057312</td>\n",
       "      <td>0.260237</td>\n",
       "      <td>28.697905</td>\n",
       "      <td>1.356920</td>\n",
       "      <td>0.973833</td>\n",
       "      <td>2.011871</td>\n",
       "      <td>0.446777</td>\n",
       "      <td>0.429397</td>\n",
       "      <td>0.485866</td>\n",
       "      <td>0.441770</td>\n",
       "    </tr>\n",
       "    <tr>\n",
       "      <th>min</th>\n",
       "      <td>1.000000</td>\n",
       "      <td>0.000000</td>\n",
       "      <td>0.000000</td>\n",
       "      <td>1.000000</td>\n",
       "      <td>0.000000</td>\n",
       "      <td>-166.549556</td>\n",
       "      <td>0.000000</td>\n",
       "      <td>0.000000</td>\n",
       "      <td>0.000000</td>\n",
       "      <td>0.000000</td>\n",
       "      <td>0.000000</td>\n",
       "      <td>1.000000</td>\n",
       "      <td>1.000000</td>\n",
       "      <td>1.000000</td>\n",
       "      <td>0.000000</td>\n",
       "      <td>0.000000</td>\n",
       "      <td>0.000000</td>\n",
       "      <td>0.000000</td>\n",
       "    </tr>\n",
       "    <tr>\n",
       "      <th>25%</th>\n",
       "      <td>1.000000</td>\n",
       "      <td>0.000000</td>\n",
       "      <td>0.000000</td>\n",
       "      <td>2.000000</td>\n",
       "      <td>32.997464</td>\n",
       "      <td>-97.830091</td>\n",
       "      <td>0.000000</td>\n",
       "      <td>0.000000</td>\n",
       "      <td>0.000000</td>\n",
       "      <td>0.000000</td>\n",
       "      <td>0.000000</td>\n",
       "      <td>1.000000</td>\n",
       "      <td>1.000000</td>\n",
       "      <td>1.000000</td>\n",
       "      <td>0.000000</td>\n",
       "      <td>0.000000</td>\n",
       "      <td>0.000000</td>\n",
       "      <td>0.000000</td>\n",
       "    </tr>\n",
       "    <tr>\n",
       "      <th>50%</th>\n",
       "      <td>1.000000</td>\n",
       "      <td>0.000000</td>\n",
       "      <td>0.000000</td>\n",
       "      <td>3.000000</td>\n",
       "      <td>36.314125</td>\n",
       "      <td>-87.641267</td>\n",
       "      <td>0.000000</td>\n",
       "      <td>0.000000</td>\n",
       "      <td>0.000000</td>\n",
       "      <td>0.000000</td>\n",
       "      <td>0.000000</td>\n",
       "      <td>2.000000</td>\n",
       "      <td>1.000000</td>\n",
       "      <td>2.000000</td>\n",
       "      <td>0.000000</td>\n",
       "      <td>0.000000</td>\n",
       "      <td>0.000000</td>\n",
       "      <td>0.000000</td>\n",
       "    </tr>\n",
       "    <tr>\n",
       "      <th>75%</th>\n",
       "      <td>2.000000</td>\n",
       "      <td>1.000000</td>\n",
       "      <td>1.000000</td>\n",
       "      <td>6.000000</td>\n",
       "      <td>40.566313</td>\n",
       "      <td>-81.308249</td>\n",
       "      <td>0.000000</td>\n",
       "      <td>0.000000</td>\n",
       "      <td>0.000000</td>\n",
       "      <td>0.000000</td>\n",
       "      <td>0.000000</td>\n",
       "      <td>4.000000</td>\n",
       "      <td>2.000000</td>\n",
       "      <td>3.000000</td>\n",
       "      <td>1.000000</td>\n",
       "      <td>0.000000</td>\n",
       "      <td>1.000000</td>\n",
       "      <td>1.000000</td>\n",
       "    </tr>\n",
       "    <tr>\n",
       "      <th>max</th>\n",
       "      <td>58.000000</td>\n",
       "      <td>1.000000</td>\n",
       "      <td>1.000000</td>\n",
       "      <td>9.000000</td>\n",
       "      <td>65.176558</td>\n",
       "      <td>0.000000</td>\n",
       "      <td>1.000000</td>\n",
       "      <td>1.000000</td>\n",
       "      <td>1.000000</td>\n",
       "      <td>1.000000</td>\n",
       "      <td>1029.000000</td>\n",
       "      <td>6.000000</td>\n",
       "      <td>7.000000</td>\n",
       "      <td>93.000000</td>\n",
       "      <td>1.000000</td>\n",
       "      <td>1.000000</td>\n",
       "      <td>1.000000</td>\n",
       "      <td>1.000000</td>\n",
       "    </tr>\n",
       "  </tbody>\n",
       "</table>\n",
       "</div>"
      ],
      "text/plain": [
       "           VE_TOTAL           NHS       RUR_URB         ROUTE      LATITUDE  \\\n",
       "count  32166.000000  32166.000000  32166.000000  32166.000000  32166.000000   \n",
       "mean       1.556177      0.392744      0.475440      3.758472     36.380743   \n",
       "std        0.889722      0.488368      0.499404      2.056157      5.962369   \n",
       "min        1.000000      0.000000      0.000000      1.000000      0.000000   \n",
       "25%        1.000000      0.000000      0.000000      2.000000     32.997464   \n",
       "50%        1.000000      0.000000      0.000000      3.000000     36.314125   \n",
       "75%        2.000000      1.000000      1.000000      6.000000     40.566313   \n",
       "max       58.000000      1.000000      1.000000      9.000000     65.176558   \n",
       "\n",
       "           LONGITUD        SP_JUR      WRK_ZONE       SCH_BUS        FATALS  \\\n",
       "count  32166.000000  32166.000000  32166.000000  32166.000000  32166.000000   \n",
       "mean     -91.516946      0.011005      0.019959      0.003295      0.073059   \n",
       "std       16.525763      0.104329      0.139861      0.057312      0.260237   \n",
       "min     -166.549556      0.000000      0.000000      0.000000      0.000000   \n",
       "25%      -97.830091      0.000000      0.000000      0.000000      0.000000   \n",
       "50%      -87.641267      0.000000      0.000000      0.000000      0.000000   \n",
       "75%      -81.308249      0.000000      0.000000      0.000000      0.000000   \n",
       "max        0.000000      1.000000      1.000000      1.000000      1.000000   \n",
       "\n",
       "          lapseTime         light       weather      TOT_PERS         DRUNK  \\\n",
       "count  32166.000000  32166.000000  32166.000000  32166.000000  32166.000000   \n",
       "mean      12.361064      2.316235      1.480849      2.720201      0.275508   \n",
       "std       28.697905      1.356920      0.973833      2.011871      0.446777   \n",
       "min        0.000000      1.000000      1.000000      1.000000      0.000000   \n",
       "25%        0.000000      1.000000      1.000000      1.000000      0.000000   \n",
       "50%        0.000000      2.000000      1.000000      2.000000      0.000000   \n",
       "75%        0.000000      4.000000      2.000000      3.000000      1.000000   \n",
       "max     1029.000000      6.000000      7.000000     93.000000      1.000000   \n",
       "\n",
       "        intersetion     collision       RUSH_HR  \n",
       "count  32166.000000  32166.000000  32166.000000  \n",
       "mean       0.243829      0.381925      0.265809  \n",
       "std        0.429397      0.485866      0.441770  \n",
       "min        0.000000      0.000000      0.000000  \n",
       "25%        0.000000      0.000000      0.000000  \n",
       "50%        0.000000      0.000000      0.000000  \n",
       "75%        0.000000      1.000000      1.000000  \n",
       "max        1.000000      1.000000      1.000000  "
      ]
     },
     "execution_count": 26,
     "metadata": {},
     "output_type": "execute_result"
    }
   ],
   "source": [
    "# Remove non-helpful and duplicate attributes \n",
    "# Correlation matrix was used to determine attributes with limited correlation to FATALS\n",
    "# Some categorical/coded variables were removed\n",
    "\n",
    "excludeFields = ['ST_CASE','VE_CASE','VE_FORMS','PEDS','PERNOTMVIT','PERMVIT','PERSONS','DAY','MONTH',\n",
    "                 'YEAR','HOUR','MINUTE','PVH_INVL','FUNC-SYS','RD_OWNER','TWAY_ID','CITY','COUNTY','TYP_INT',\n",
    "                 'TWAY_ID2','MILEPT','RELJCT1','RELJCT2', 'REL_ROAD','LGT_COND','FUNC_SYS','DAY_WEEK',\n",
    "                 'RAIL','NOT_HOUR','NOT_MIN','ARR_HOUR','ARR_MIN','HOSP_HR','HOSP_MN','STATE','DRUNK_DR','CF1','CF2','CF3',\n",
    "                 'state','WEATHER','WEATHER1','WEATHER2','HARM_EV','MAN_COLL']\n",
    "\n",
    "keepFields = [col for col in df.columns if col not in excludeFields]\n",
    "\n",
    "df = df[keepFields]\n",
    "\n",
    "#df.head(20)\n",
    "df.describe()"
   ]
  },
  {
   "cell_type": "markdown",
   "metadata": {},
   "source": [
    "### Review Feature Correlations\n",
    "\n",
    "To easily identify and remove highly correlated features that may impact our analysis, a correlation heatmap was used."
   ]
  },
  {
   "cell_type": "code",
   "execution_count": 27,
   "metadata": {},
   "outputs": [
    {
     "data": {
      "text/plain": [
       "<matplotlib.axes._subplots.AxesSubplot at 0x1113161d0>"
      ]
     },
     "execution_count": 27,
     "metadata": {},
     "output_type": "execute_result"
    },
    {
     "data": {
      "image/png": "[encoded data removed]",
      "text/plain": [
       "<matplotlib.figure.Figure at 0x110f47eb8>"
      ]
     },
     "metadata": {},
     "output_type": "display_data"
    }
   ],
   "source": [
    "%matplotlib inline\n",
    "\n",
    "# Compute the correlation matrix\n",
    "corr = df.corr()\n",
    "\n",
    "# Generate a mask for the upper triangle\n",
    "mask = np.zeros_like(corr, dtype=np.bool)\n",
    "mask[np.triu_indices_from(mask)] = True\n",
    "\n",
    "# Set up the matplotlib figure\n",
    "f, ax = plt.subplots(figsize=(27, 27))\n",
    "\n",
    "# Generate a custom diverging colormap\n",
    "cmap = sns.diverging_palette(220, 15, as_cmap=True)\n",
    "\n",
    "# Draw the heatmap with the mask and correct aspect ratio\n",
    "sns.heatmap(corr, mask=mask, cmap=cmap, vmax=1.0, center=0,\n",
    "            square=True, linewidths=.2, cbar_kws={\"shrink\": .5})\n"
   ]
  },
  {
   "cell_type": "markdown",
   "metadata": {},
   "source": [
    "**Remove VE_TOTAL**    \n",
    "From the coorelation plot, we see that total vehicles (VE_TOTAL) is highly coorelated with collisions (collision) and total persons (TOT_PERS).  We will remove VE_TOTAL from the dataset before performing further analysis."
   ]
  },
  {
   "cell_type": "code",
   "execution_count": 28,
   "metadata": {},
   "outputs": [
    {
     "name": "stdout",
     "output_type": "stream",
     "text": [
      "<class 'pandas.core.frame.DataFrame'>\n",
      "RangeIndex: 32166 entries, 0 to 32165\n",
      "Data columns (total 18 columns):\n",
      "VE_TOTAL       32166 non-null int64\n",
      "NHS            32166 non-null int64\n",
      "RUR_URB        32166 non-null int64\n",
      "ROUTE          32166 non-null int64\n",
      "LATITUDE       32166 non-null float64\n",
      "LONGITUD       32166 non-null float64\n",
      "SP_JUR         32166 non-null int64\n",
      "WRK_ZONE       32166 non-null int64\n",
      "SCH_BUS        32166 non-null int64\n",
      "FATALS         32166 non-null int64\n",
      "lapseTime      32166 non-null int64\n",
      "light          32166 non-null int64\n",
      "weather        32166 non-null int64\n",
      "TOT_PERS       32166 non-null int64\n",
      "DRUNK          32166 non-null int64\n",
      "intersetion    32166 non-null int64\n",
      "collision      32166 non-null int64\n",
      "RUSH_HR        32166 non-null int64\n",
      "dtypes: float64(2), int64(16)\n",
      "memory usage: 4.4 MB\n",
      "*********************************************\n",
      "<class 'pandas.core.frame.DataFrame'>\n",
      "RangeIndex: 32166 entries, 0 to 32165\n",
      "Data columns (total 17 columns):\n",
      "NHS            32166 non-null int64\n",
      "RUR_URB        32166 non-null int64\n",
      "ROUTE          32166 non-null int64\n",
      "LATITUDE       32166 non-null float64\n",
      "LONGITUD       32166 non-null float64\n",
      "SP_JUR         32166 non-null int64\n",
      "WRK_ZONE       32166 non-null int64\n",
      "SCH_BUS        32166 non-null int64\n",
      "FATALS         32166 non-null int64\n",
      "lapseTime      32166 non-null int64\n",
      "light          32166 non-null int64\n",
      "weather        32166 non-null int64\n",
      "TOT_PERS       32166 non-null int64\n",
      "DRUNK          32166 non-null int64\n",
      "intersetion    32166 non-null int64\n",
      "collision      32166 non-null int64\n",
      "RUSH_HR        32166 non-null int64\n",
      "dtypes: float64(2), int64(15)\n",
      "memory usage: 4.2 MB\n"
     ]
    }
   ],
   "source": [
    "#Drop highly coorelated attributes (VE_TOTAL) \n",
    "df.info()\n",
    "\n",
    "# Drop the highly correlated features from our training data \n",
    "df = df.drop('VE_TOTAL', axis=1)\n",
    "\n",
    "#Check columns after drop \n",
    "print('*********************************************')\n",
    "df.info()"
   ]
  },
  {
   "cell_type": "markdown",
   "metadata": {},
   "source": [
    "### Clean Dataset\n",
    "\n",
    "Our clean dataset now contains 17 attributes.  The following table provides the type and scale of each attribute:\n",
    "\n",
    "|Attribute|Description|Format|Key|\n",
    "|:-------------|:---------------------------------------------|:---------------|:-------------|\n",
    "|NHS |Did the accident occur on a national highway? |INTEGER |0-No, 1-Yes |\n",
    "|RUR_URB |Did the accident occur in an urban area? |INTEGER | 0-Rural, 1-Urban|\n",
    "|ROUTE |Route signing |INTEGER | 1-Interstate, 2-US Highway, 3-State Highway, 4-County Road, 5-Local Street Township, 6-Local Street Municipality, 7-Local Street Frontage Road, 8-Other, 9-Unknown |\n",
    "|LATITUDE |Latitude of crash site |FLOAT |DD.DDDD Decimal Degrees, 0-Not available |\n",
    "|LONGITUDE |Longitude of crash site |FLOAT |DDD.DDDD Decimal Degrees, 0-Not available |\n",
    "|SP_JUR |Did the accident occur in a special jurisdiction? |INTEGER |0-No, 1-Yes |\n",
    "|WRK_ZONE |Did the accident occur in a work zone? |INTEGER |0-No, 1-Yes |\n",
    "|SCH_BUS |Was a school bus involved? |INTEGER |0-No, 1-Yes, --Not reported |\n",
    "|FATALS |Fatalities |INTEGER |Number of fatalities that occured in crash |\n",
    "|lapsetime |Time lapse between accident and arrival at hospital |INTEGER |Time in minutes |\n",
    "|light |Lighting condition at time of accident |INTEGER |1-6 (best to worst) |\n",
    "|weather |Weather condition at time of accident |INTEGER |1-7 (best to worst) |\n",
    "|TOT_PERS |Total number of persons involved in the accident |INTEGER |Number of persons |\n",
    "|DRUNK |Was a drunk driver involved in the crash? |INTEGER |0-No, 1-Yes |\n",
    "|intersection |Did the accident occur at an intersection? |INTEGER |0-No, 1-Yes |\n",
    "|collision |Was there a collision involved? |INTEGER |0-No, 1-Yes |\n",
    "|RUSH_HR |Did the accident occur during rush hour? |INTEGER |0-No, 1-Yes |"
   ]
  },
  {
   "cell_type": "markdown",
   "metadata": {},
   "source": [
    "# MODELING and EVALUATION\n",
    "\n",
    "\n",
    "## Clustering of Lighting conditions and Weather\n",
    "\n",
    "**We will attempt to classify accidents as single-fatality or multiple-fatality accidents**    \n",
    "\n",
    "Using clustering, we will attempt to classify the accidents in our dataset as to whether they result in single or multiple fatalities.  In particular, the kmeans, hierarchical agglomerative, and DBSCAN clustering methods will be utilized in the classification exercise. The variables used for these clustering exercises will be those representing light conditions, weather conditions, rush hour, drunk persons, and total persons involved in the accidents.\n",
    "\n",
    "Since the data is extremely skewed toward single-fatality accidents, a stratified 10-fold cross-validation will be used to determine the initial average accuracy when classifying whether a fatal accident results in just one or more than one fatality. \n"
   ]
  },
  {
   "cell_type": "markdown",
   "metadata": {},
   "source": [
    "## Train, Evaluate and Visulize"
   ]
  },
  {
   "cell_type": "code",
   "execution_count": 30,
   "metadata": {},
   "outputs": [
    {
     "name": "stdout",
     "output_type": "stream",
     "text": [
      "Average accuracy =  92.4330138629 +- 0.158762488498\n"
     ]
    }
   ],
   "source": [
    "# Perform cluster analysis using several clustering methods (adjust parameters).\n",
    "\n",
    "# # now use this grouping to fill the data set in each group, then transform back\n",
    "# fill in the numeric values\n",
    "df_imputed = df.transform(lambda grp: grp.fillna(grp.median()))\n",
    "\n",
    "#Baseline Analysis \n",
    "from sklearn.model_selection import StratifiedKFold, cross_val_score\n",
    "from sklearn.ensemble import RandomForestClassifier\n",
    "\n",
    "y = df_imputed['FATALS']\n",
    "X = df_imputed[['light','weather','RUSH_HR','DRUNK','TOT_PERS']]\n",
    "cv = StratifiedKFold(n_splits=10)\n",
    "\n",
    "clf = RandomForestClassifier(n_estimators=150,random_state=1)\n",
    "\n",
    "acc = cross_val_score(clf,X,y=y,cv=cv)\n",
    "\n",
    "print (\"Average accuracy = \", acc.mean()*100, \"+-\", acc.std()*100)"
   ]
  },
  {
   "cell_type": "code",
   "execution_count": 31,
   "metadata": {},
   "outputs": [
    {
     "data": {
      "image/png": "[encoded data removed]",
      "text/plain": [
       "<matplotlib.figure.Figure at 0x110f4b588>"
      ]
     },
     "metadata": {},
     "output_type": "display_data"
    }
   ],
   "source": [
    "#Plotting Fatals versus Weather \n",
    "from matplotlib import pyplot as plt\n",
    "plt.style.use(\"ggplot\")\n",
    "\n",
    "%matplotlib inline\n",
    "X1 = df_imputed[['FATALS','weather']].values\n",
    "\n",
    "plt.scatter(X1[:, 1], X1[:, 0]+np.random.random(X1[:, 1].shape)/2, \n",
    "             s=20)\n",
    "plt.xlabel('Weather (normalized)'), plt.ylabel('Fatals')\n",
    "plt.grid()\n",
    "plt.title('Fatals Versus Weather')\n",
    "plt.show()"
   ]
  },
  {
   "cell_type": "markdown",
   "metadata": {},
   "source": [
    "The plot above is a visual reputation of the relationship between FATALS and Weather. Due to the nature and characters of Weather, the visualization is quite categorical and contains distinct groupings/clusters. "
   ]
  },
  {
   "cell_type": "code",
   "execution_count": 32,
   "metadata": {},
   "outputs": [
    {
     "name": "stdout",
     "output_type": "stream",
     "text": [
      "Average accuracy (with kmeans for FATALS/weather/light)=  92.5729025064 +- 0.072890618547\n"
     ]
    }
   ],
   "source": [
    "from sklearn.cluster import KMeans\n",
    "import numpy as np\n",
    "import pandas as pd\n",
    "\n",
    "X1 = df_imputed[['light','weather']]\n",
    "\n",
    "cls = KMeans(n_clusters=8, init='k-means++',random_state=1)\n",
    "cls.fit(X1)\n",
    "newfeature = cls.labels_ # the labels from kmeans clustering\n",
    "\n",
    "y = df_imputed['FATALS']\n",
    "X = df_imputed[['DRUNK','RUSH_HR','TOT_PERS']]\n",
    "X = np.column_stack((X,pd.get_dummies(newfeature)))\n",
    "\n",
    "acc = cross_val_score(clf,X,y=y,cv=cv)\n",
    "\n",
    "print (\"Average accuracy (with kmeans for FATALS/weather/light)= \", acc.mean()*100, \"+-\", acc.std()*100)"
   ]
  },
  {
   "cell_type": "code",
   "execution_count": 33,
   "metadata": {},
   "outputs": [
    {
     "data": {
      "image/png": "[encoded data removed]",
      "text/plain": [
       "<matplotlib.figure.Figure at 0x1143b25c0>"
      ]
     },
     "metadata": {},
     "output_type": "display_data"
    }
   ],
   "source": [
    "# getting things started\n",
    "%matplotlib inline\n",
    "\n",
    "import time\n",
    "import matplotlib.pyplot as plt\n",
    "import numpy as np\n",
    "\n",
    "X1 += .2 * np.random.randn(X1.shape[0],2) # add some randomness\n",
    "\n",
    "\n",
    "plt.subplot(1,2,2)\n",
    "plt.plot(X1.values[:, 0], X1.values[:, 1], 'r.', markersize=2) #plot the data\n",
    "plt.xlabel('Light'), plt.ylabel('Weather')\n",
    "plt.grid()\n",
    "\n",
    "plt.show()"
   ]
  },
  {
   "cell_type": "markdown",
   "metadata": {},
   "source": [
    "The graph above shows the relation between lighting and weather.  From this plot, we can see that there are several potential clusters that can be formed from this relationship."
   ]
  },
  {
   "cell_type": "code",
   "execution_count": 34,
   "metadata": {},
   "outputs": [
    {
     "name": "stdout",
     "output_type": "stream",
     "text": [
      "Average accuracy (with kmeans for FATALS/RUSH_HR/TOT_PERS)=  92.5666894004 +- 0.138423811655\n"
     ]
    }
   ],
   "source": [
    "from sklearn.cluster import KMeans\n",
    "import numpy as np\n",
    "\n",
    "X2 = df_imputed[['RUSH_HR','TOT_PERS']]\n",
    "\n",
    "cls = KMeans(n_clusters=8, init='k-means++',random_state=1)\n",
    "cls.fit(X2)\n",
    "newfeature = cls.labels_ # the labels from kmeans clustering\n",
    "\n",
    "y = df_imputed['FATALS']\n",
    "X = df_imputed[['DRUNK','light','weather']]\n",
    "\n",
    "X = np.column_stack((X,pd.get_dummies(newfeature)))\n",
    "\n",
    "acc = cross_val_score(clf,X,y=y,cv=cv)\n",
    "\n",
    "print (\"Average accuracy (with kmeans for FATALS/RUSH_HR/TOT_PERS)= \", acc.mean()*100, \"+-\", acc.std()*100)"
   ]
  },
  {
   "cell_type": "code",
   "execution_count": 16,
   "metadata": {},
   "outputs": [
    {
     "name": "stdout",
     "output_type": "stream",
     "text": [
      "Average accuracy =  92.6817111211 +- 0.0255698391782\n"
     ]
    }
   ],
   "source": [
    "# get the first clustering\n",
    "cls_fare = KMeans(n_clusters=8, init='k-means++',random_state=1)\n",
    "cls_fare.fit(X1)\n",
    "newfeature_fare = cls_fare.labels_ # the labels from kmeans clustering\n",
    "\n",
    "# append on the second clustering\n",
    "cls_fam = KMeans(n_clusters=8, init='k-means++',random_state=1)\n",
    "cls_fam.fit(X2)\n",
    "newfeature_fam = cls_fam.labels_ # the labels from kmeans clustering\n",
    "\n",
    "y = df_imputed['FATALS']\n",
    "X = df_imputed[['DRUNK']]\n",
    "X = np.column_stack((X,pd.get_dummies(newfeature_fare),pd.get_dummies(newfeature_fam)))\n",
    "\n",
    "acc = cross_val_score(clf,X,y=y,cv=cv)\n",
    "\n",
    "print (\"Average accuracy = \", acc.mean()*100, \"+-\", acc.std()*100)"
   ]
  },
  {
   "cell_type": "code",
   "execution_count": 15,
   "metadata": {},
   "outputs": [
    {
     "name": "stdout",
     "output_type": "stream",
     "text": [
      "Clusters 4 16 Average accuracy =  92.6723827629 +- 0.0447644346415\n",
      "Clusters 4 17 Average accuracy =  92.6723827629 +- 0.0447644346415\n",
      "Clusters 4 18 Average accuracy =  92.6723827629 +- 0.0402132659206\n",
      "Clusters 5 16 Average accuracy =  92.6817130543 +- 0.0422537491516\n",
      "Clusters 5 17 Average accuracy =  92.672384696 +- 0.0249389830899\n",
      "Clusters 5 18 Average accuracy =  92.6506214266 +- 0.0658805960423\n",
      "Clusters 6 16 Average accuracy =  92.6723837295 +- 0.0375429155227\n",
      "Clusters 6 17 Average accuracy =  92.6630573044 +- 0.04223441782\n",
      "Clusters 6 18 Average accuracy =  92.6350770626 +- 0.055104435195\n",
      "Clusters 7 16 Average accuracy =  92.6630573044 +- 0.0373748310293\n",
      "Clusters 7 17 Average accuracy =  92.6568403321 +- 0.0416335609957\n",
      "Clusters 7 18 Average accuracy =  92.6350780292 +- 0.0494148377347\n",
      "Clusters 8 16 Average accuracy =  92.6599488182 +- 0.035845471074\n",
      "Clusters 8 17 Average accuracy =  92.6412959681 +- 0.0373511793057\n",
      "Clusters 8 18 Average accuracy =  92.6133166929 +- 0.0320810291383\n",
      "Clusters 9 16 Average accuracy =  92.6506223932 +- 0.05085891222\n",
      "Clusters 9 17 Average accuracy =  92.6288591237 +- 0.0515012576454\n",
      "Clusters 9 18 Average accuracy =  92.6102072401 +- 0.0465646685625\n",
      "Wall time: 5min 10s\n"
     ]
    }
   ],
   "source": [
    "%%time \n",
    "\n",
    "X1 = df_imputed[['light','weather']]\n",
    "X2 = df_imputed[['RUSH_HR','TOT_PERS']]\n",
    "\n",
    "params = []\n",
    "for n_fare in range(4,10):\n",
    "    for n_fam in range(16,19):\n",
    "        # get the first clustering\n",
    "        cls_fare = KMeans(n_clusters=n_fare, init='k-means++',random_state=1)\n",
    "        cls_fare.fit(X1)\n",
    "        newfeature_fare = cls_fare.labels_ # the labels from kmeans clustering\n",
    "\n",
    "        # append on the second clustering\n",
    "        cls_fam = KMeans(n_clusters=n_fam, init='k-means++',random_state=1)\n",
    "        cls_fam.fit(X2)\n",
    "        newfeature_fam = cls_fam.labels_ # the labels from kmeans clustering\n",
    "\n",
    "        y = df_imputed['FATALS']\n",
    "        X = df_imputed[['DRUNK']]\n",
    "        X = np.column_stack((X,pd.get_dummies(newfeature_fare),pd.get_dummies(newfeature_fam)))\n",
    "\n",
    "        acc = cross_val_score(clf,X,y=y,cv=cv)\n",
    "        params.append((n_fare,n_fam,acc.mean()*100,acc.std()*100)) # save state\n",
    "\n",
    "        print (\"Clusters\",n_fare,n_fam,\"Average accuracy = \", acc.mean()*100, \"+-\", acc.std()*100)"
   ]
  },
  {
   "cell_type": "code",
   "execution_count": 61,
   "metadata": {},
   "outputs": [
    {
     "data": {
      "image/png": "[encoded data removed]",
      "text/plain": [
       "<matplotlib.figure.Figure at 0x25d8063a860>"
      ]
     },
     "metadata": {},
     "output_type": "display_data"
    },
    {
     "data": {
      "image/png": "[encoded data removed]",
      "text/plain": [
       "<matplotlib.figure.Figure at 0x25d802c2860>"
      ]
     },
     "metadata": {},
     "output_type": "display_data"
    }
   ],
   "source": [
    "n_fare=7\n",
    "d_fam=17\n",
    "\n",
    "X1 = df_imputed[['light','weather']]\n",
    "X2 = df_imputed[['RUSH_HR','TOT_PERS']]\n",
    "\n",
    "cls_fare = KMeans(n_clusters=n_fare, init='k-means++',random_state=1)\n",
    "cls_fare.fit(X1)\n",
    "newfeature_fare = cls_fare.labels_ # the labels from kmeans clustering\n",
    "\n",
    "# append on the second clustering\n",
    "cls_fam = KMeans(n_clusters=n_fam, init='k-means++',random_state=1)\n",
    "cls_fam.fit(X2)\n",
    "newfeature_fam = cls_fam.labels_ # the labels from kmeans clustering\n",
    "\n",
    "plt.figure()\n",
    "plt.subplot(1,2,1)\n",
    "X2=X2.values\n",
    "plt.scatter(X2[:, 0], X2[:, 1]+np.random.random(X2[:, 1].shape)/2, c=newfeature_fam, cmap=plt.cm.rainbow, s=20, linewidths=0)\n",
    "plt.xlabel('RUSH_HR'), plt.ylabel('TOT_PERS')\n",
    "plt.grid()\n",
    "\n",
    "plt.subplot(1,2,2)\n",
    "plt.scatter(X1.values[:, 0], X1.values[:, 1]+np.random.random(X1.values[:, 1].shape)/2, c=newfeature_fam, cmap=plt.cm.rainbow, s=20, linewidths=0)\n",
    "plt.xlabel('Light'), plt.ylabel('Weather')\n",
    "plt.grid()\n",
    "\n",
    "X1=X1.values\n",
    "plt.figure()\n",
    "plt.scatter(X1[:, 1], X1[:, 0]+np.random.random(X1[:, 0].shape)/2, c=newfeature_fare, cmap=plt.cm.rainbow, s=20, linewidths=0)\n",
    "plt.xlabel('Weather'), plt.ylabel('Light')\n",
    "plt.grid()"
   ]
  },
  {
   "cell_type": "markdown",
   "metadata": {},
   "source": [
    "The plots above represent the relationships between the features in our dataset. Plot 1 = Relationship between RUSH_HR versus TOT_PERS. Plot 2 = Relationship betwen Light versuss Weather. Plot 3 = Relationship between Weather versus Light. "
   ]
  },
  {
   "cell_type": "code",
   "execution_count": 45,
   "metadata": {},
   "outputs": [
    {
     "name": "stdout",
     "output_type": "stream",
     "text": [
      "Clusters 15 Average accuracy =  92.4392308353 +- 0.151699329809\n",
      "Clusters 16 Average accuracy =  92.4361223491 +- 0.149922561145\n",
      "Clusters 17 Average accuracy =  92.4267949574 +- 0.158815902583\n",
      "Clusters 18 Average accuracy =  92.4609931381 +- 0.150704111856\n",
      "Clusters 19 Average accuracy =  92.4547771324 +- 0.174845938231\n"
     ]
    }
   ],
   "source": [
    "params = []\n",
    "for n_fam in range(15,20):\n",
    "\n",
    "    # append on the clustering\n",
    "    cls_fam = KMeans(n_clusters=n_fam, init='k-means++',random_state=1)\n",
    "    cls_fam.fit(X2)\n",
    "    newfeature_fam = cls_fam.labels_ # the labels from kmeans clustering\n",
    "\n",
    "    y = df_imputed['FATALS']\n",
    "    X = df_imputed[['light','weather','RUSH_HR','DRUNK','TOT_PERS']]\n",
    "    X = np.column_stack((X,pd.get_dummies(newfeature_fam)))\n",
    "\n",
    "    acc = cross_val_score(clf,X,y=y,cv=cv)\n",
    "    params.append((n_fare,n_fam,acc.mean()*100,acc.std()*100)) # save state\n",
    "\n",
    "    print (\"Clusters\",n_fam,\"Average accuracy = \", acc.mean()*100, \"+-\", acc.std()*100)"
   ]
  },
  {
   "cell_type": "code",
   "execution_count": 48,
   "metadata": {},
   "outputs": [
    {
     "name": "stdout",
     "output_type": "stream",
     "text": [
      "C= 13 ward Average accuracy =  92.4423393214 +- 0.154029775599\n",
      "C= 14 ward Average accuracy =  92.4392308353 +- 0.16216880464\n",
      "C= 15 ward Average accuracy =  92.4330128964 +- 0.159413616951\n",
      "C= 16 ward Average accuracy =  92.4330138629 +- 0.16057798395\n",
      "C= 17 ward Average accuracy =  92.426795924 +- 0.161786438766\n",
      "C= 18 ward Average accuracy =  92.4330138629 +- 0.168221368334\n",
      "C= 19 ward Average accuracy =  92.4299053768 +- 0.161190255115\n",
      "C= 13 complete Average accuracy =  92.4236874378 +- 0.172099963839\n",
      "C= 14 complete Average accuracy =  92.4267988237 +- 0.174310382341\n",
      "C= 15 complete Average accuracy =  92.4236874378 +- 0.172098916177\n",
      "C= 16 complete Average accuracy =  92.4236884044 +- 0.174843253828\n",
      "C= 17 complete Average accuracy =  92.4330148295 +- 0.160532763418\n",
      "C= 18 complete Average accuracy =  92.4330157961 +- 0.156833430684\n",
      "C= 19 complete Average accuracy =  92.4392308353 +- 0.162763186016\n",
      "C= 13 average Average accuracy =  92.4267968906 +- 0.169897893259\n",
      "C= 14 average Average accuracy =  92.4267968906 +- 0.171031580663\n",
      "C= 15 average Average accuracy =  92.4299063433 +- 0.162339307014\n",
      "C= 16 average Average accuracy =  92.4174714321 +- 0.168845782653\n",
      "C= 17 average Average accuracy =  92.4236903376 +- 0.175863998932\n",
      "C= 18 average Average accuracy =  92.4392318018 +- 0.156670054136\n",
      "C= 19 average Average accuracy =  92.4236874378 +- 0.153707024102\n",
      "Wall time: 13min 30s\n"
     ]
    }
   ],
   "source": [
    "%%time \n",
    "\n",
    "from sklearn.cluster import AgglomerativeClustering\n",
    "\n",
    "X1 = df_imputed[['light','weather']]\n",
    "\n",
    "params = []\n",
    "for link in ['ward', 'complete', 'average']:\n",
    "    for n_fam in range(13,20):\n",
    "\n",
    "        # append on the clustering\n",
    "        cls_fam = AgglomerativeClustering(n_clusters=n_fam, linkage=link)\n",
    "        cls_fam.fit(X2)\n",
    "        newfeature_fam = cls_fam.labels_ # the labels from kmeans clustering\n",
    "\n",
    "        y = df_imputed['FATALS']\n",
    "        X = df_imputed[['light','weather','RUSH_HR','DRUNK','TOT_PERS']]\n",
    "        X = np.column_stack((X,pd.get_dummies(newfeature_fam)))\n",
    "\n",
    "        acc = cross_val_score(clf,X,y=y,cv=cv)\n",
    "        params.append((n_fare,n_fam,acc.mean()*100,acc.std()*100)) # save state\n",
    "\n",
    "        print (\"C=\",n_fam,link,\"Average accuracy = \", acc.mean()*100, \"+-\", acc.std()*100)"
   ]
  },
  {
   "cell_type": "code",
   "execution_count": 49,
   "metadata": {},
   "outputs": [
    {
     "name": "stdout",
     "output_type": "stream",
     "text": [
      "0.1 5 Average accuracy =  92.4547780989 +- 0.157347024393\n",
      "0.1 6 Average accuracy =  92.4672130102 +- 0.165751382323\n",
      "0.1 7 Average accuracy =  92.4547780989 +- 0.160390760706\n",
      "0.125 5 Average accuracy =  92.4547780989 +- 0.157347024393\n",
      "0.125 6 Average accuracy =  92.4672130102 +- 0.165751382323\n",
      "0.125 7 Average accuracy =  92.4547780989 +- 0.160390760706\n",
      "0.15 5 Average accuracy =  92.4547780989 +- 0.157347024393\n",
      "0.15 6 Average accuracy =  92.4672130102 +- 0.165751382323\n",
      "0.15 7 Average accuracy =  92.4547780989 +- 0.160390760706\n",
      "Wall time: 3min 30s\n"
     ]
    }
   ],
   "source": [
    "%%time \n",
    "\n",
    "from sklearn.cluster import DBSCAN\n",
    "\n",
    "params = []\n",
    "for eps in [0.1, 0.125, 0.15]:\n",
    "    for mpts in range(5,8):\n",
    "\n",
    "        # append on the clustering\n",
    "        cls_fam = DBSCAN(eps=eps, min_samples=mpts)\n",
    "        cls_fam.fit(X2)\n",
    "        newfeature_fam = cls_fam.labels_ # the labels from kmeans clustering\n",
    "\n",
    "        y = df_imputed['FATALS']\n",
    "        X = df_imputed[['light','weather','RUSH_HR','DRUNK','TOT_PERS']]\n",
    "        X = np.column_stack((X,pd.get_dummies(newfeature_fam)))\n",
    "\n",
    "        acc = cross_val_score(clf,X,y=y,cv=cv)\n",
    "        params.append((n_fare,n_fam,acc.mean()*100,acc.std()*100)) # save state\n",
    "\n",
    "        print (eps,mpts,\"Average accuracy = \", acc.mean()*100, \"+-\", acc.std()*100)"
   ]
  },
  {
   "cell_type": "code",
   "execution_count": 66,
   "metadata": {},
   "outputs": [
    {
     "data": {
      "image/png": "[encoded data removed]",
      "text/plain": [
       "<matplotlib.figure.Figure at 0x25d802b1358>"
      ]
     },
     "metadata": {},
     "output_type": "display_data"
    }
   ],
   "source": [
    "data = X2\n",
    "data1 = X1\n",
    "\n",
    "cls = DBSCAN(eps=0.125, min_samples=6)\n",
    "cls.fit(data)\n",
    "dbs_labels = cls.labels_ \n",
    "\n",
    "cls = AgglomerativeClustering(n_clusters=14, linkage='complete')\n",
    "cls.fit(data)\n",
    "hac_labels = cls.labels_ \n",
    "\n",
    "cls = KMeans(n_clusters=17, random_state=1)\n",
    "cls.fit(data)\n",
    "kmn_labels = cls.labels_\n",
    "\n",
    "fig = plt.figure(figsize=(12,10))\n",
    "title = ['DBSCAN','HAC','KMEANS']\n",
    "\n",
    "for i,l in enumerate([dbs_labels,hac_labels,kmn_labels]):\n",
    "    \n",
    "    plt.subplot(3,2,2*i+1)\n",
    "    plt.scatter(data[:, 0], data[:, 1]+np.random.random(data[:, 1].shape)/2, c=l, cmap=plt.cm.rainbow, s=20, linewidths=0)\n",
    "    plt.xlabel('RUSH_HR'), plt.ylabel('TOT_PERS')\n",
    "    plt.grid()\n",
    "    plt.title(title[i])\n",
    "    \n",
    "    plt.subplot(3,2,2*i+2)\n",
    "    plt.scatter(data1[:, 0], data1[:, 1]+np.random.random(data[:, 1].shape)/2, c=l, cmap=plt.cm.rainbow, s=20, linewidths=0)\n",
    "    plt.xlabel('Light'), plt.ylabel('Weather')\n",
    "    plt.grid()\n",
    "    plt.title(title[i])"
   ]
  },
  {
   "cell_type": "markdown",
   "metadata": {},
   "source": [
    "The plots above contain the different clustering algorithms: DBSCAN, HAC, and KMEANS. The first plot for each algorithm compares the relationship between RUSH_HR versus TOT_PERS. THen, the second plot visualize the relationship between Light versus Weather. "
   ]
  },
  {
   "cell_type": "code",
   "execution_count": 21,
   "metadata": {},
   "outputs": [
    {
     "data": {
      "image/png": "[encoded data removed]",
      "text/plain": [
       "<matplotlib.figure.Figure at 0x21eef84ec18>"
      ]
     },
     "metadata": {},
     "output_type": "display_data"
    }
   ],
   "source": [
    "# do it for the k-means\n",
    "from sklearn.cluster import KMeans\n",
    "\n",
    "seuclid = []\n",
    "scosine = []\n",
    "k = range(2,10)\n",
    "for i in k:\n",
    "    kmeans_model = KMeans(n_clusters=i, init=\"k-means++\").fit(data)\n",
    "    labels = kmeans_model.labels_\n",
    "    seuclid.append(metrics.silhouette_score(data, labels, metric='euclidean'))\n",
    "    scosine.append(metrics.silhouette_score(data, labels, metric='cosine'))\n",
    "    \n",
    "plt.figure(figsize=(10,5))\n",
    "plt.plot(k,seuclid,label='euclidean')\n",
    "plt.plot(k,scosine,label='cosine')\n",
    "plt.ylabel(\"Silhouette\")\n",
    "plt.xlabel(\"Cluster\")\n",
    "plt.title(\"Silhouette vs Cluster Size\")\n",
    "plt.legend()\n",
    "plt.show()"
   ]
  },
  {
   "cell_type": "markdown",
   "metadata": {},
   "source": [
    "## Summarize the Ramifications"
   ]
  },
  {
   "cell_type": "markdown",
   "metadata": {
    "collapsed": true
   },
   "source": [
    "\n",
    "Clustering for our dataset didn't prove to be particularly useful.  The dataset consists primarily of categorical variables and only a few ordinal variables which we performed clustering on.  The accuracy of the model is driven largely by the overwheming number of single fatality accidents, and therefore clustering doesn't modify the overall accuracy result very much, with the accuracy of predicting single fatality accidents hovering aroud 92%.\n",
    "\n",
    "The best result we found, involved the clustering of weather condition and light condition, as well as rush hour traffic and total persons involved.  Clustering these variables increased our model accuracy from 92.43 +- 0.16 to an accuracy of 92.68 +- .04 using a cluster of size 5 for light and weather, and a cluster of size 16 for RUSH_HR and TOT_PERS.  This combination of clusters provided our best overall accuracy using a K-Means algorithm.\n",
    "\n",
    "Intuitively it makes since that lighting and weather would be related and cluster fairly well.  Similarly, rush hour traffic and total persons are related and also cluster fairly well.  \n",
    "\n",
    "Ultimately, only a marginal impact is shown using clustering for predicting fatalities which isn't surprising considering the large amount of categorical data and the influence of an overwhelming number of single fatality accidents.\n"
   ]
  },
  {
   "cell_type": "markdown",
   "metadata": {},
   "source": [
    "# Deployment\n",
    "\n",
    "The critical factors for prediction of multi-fatality accidents could be valuable to many government agencies.  Cluster analysis shows the relationship between many of these variables, such as lighting and weather or rush hour and total persons involved in the accident.   Understanding the primary factors that contribute the most to loss of life in motor vehicle accidents, prevention programs can be established to educate and address these causes. Most people would speculate that drunk driving leads to more fatalities, and the model confirms that multiple fatalities are strongly correlated to drunk driving. This can also be clustered with other related factors to reduce the complexity of the analysis.  This information can be used in defensive driving training to stress collision avoidance as a means of staying alive.\n",
    "\n",
    "Further analysis on predicting what factors are most critical in accidents without fatalities could also prove to be very useful.  Our dataset is only comprised of accidents resulting in fatalities.  As a form of predicting prevention measures, analyzing accidents that avoided fatalities could be very valuable. \n",
    "\n",
    "Overall, we were sucessful in showing the major factors involved in fatal accidents.  New data is released each year on traffic fatalities, and this analysis could be updated annually, and even a look at trends over multiple years could be enlightening. \n"
   ]
  },
  {
   "cell_type": "markdown",
   "metadata": {},
   "source": [
    "# Exceptional Work\n"
   ]
  },
  {
   "cell_type": "markdown",
   "metadata": {
    "collapsed": true
   },
   "source": [
    "For exceptional work, mulitple models were used to achieve the best result for our model.  K-Means and DBSCAN were both used in the analysis.  \n",
    "\n",
    "We also used **euclidean and cosine intercluster distance** to review the optimal number of clusters to achieve the best results for our model.\n",
    "\n",
    "**New features** were developed from the dataset.  The feature RUSH_HR was created to determine if rush hour traffic was a key factor in fatalities, and was clustered with total persons in our cluster analysis.\n",
    "\n",
    "**New ordinal variables** were also created for lighting condition and weather condition, which were used in the clustering models.  The original variables for lighting (LGT_COND) was reordered to represent a new ordinal variable (light) to scale from lightest to darkest conditions.  Similarly, the original variable for weather condition (WEATHER) was reordered to represent a new ordinal variable (weather) to scale from best to worst weather conditions.\n"
   ]
  },
  {
   "cell_type": "code",
   "execution_count": null,
   "metadata": {
    "collapsed": true
   },
   "outputs": [],
   "source": []
  }
 ],
 "metadata": {
  "anaconda-cloud": {},
  "kernelspec": {
   "display_name": "Python 3",
   "language": "python",
   "name": "python3"
  },
  "language_info": {
   "codemirror_mode": {
    "name": "ipython",
    "version": 3
   },
   "file_extension": ".py",
   "mimetype": "text/x-python",
   "name": "python",
   "nbconvert_exporter": "python",
   "pygments_lexer": "ipython3",
   "version": "3.6.3"
  }
 },
 "nbformat": 4,
 "nbformat_minor": 1
}
